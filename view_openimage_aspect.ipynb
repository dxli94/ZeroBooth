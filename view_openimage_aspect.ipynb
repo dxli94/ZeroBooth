{
 "cells": [
  {
   "cell_type": "code",
   "execution_count": 12,
   "metadata": {},
   "outputs": [],
   "source": [
    "from PIL import Image\n",
    "import os"
   ]
  },
  {
   "cell_type": "code",
   "execution_count": 31,
   "metadata": {},
   "outputs": [
    {
     "name": "stdout",
     "output_type": "stream",
     "text": [
      "1300\n"
     ]
    }
   ],
   "source": [
    "# image_dir = \"/export/home/workspace/dreambooth/diffusers/data/openimage-mask-full/train\"\n",
    "# image_dir = \"/export/home/workspace/dreambooth/diffusers/data/openimage-mask-full/train\"\n",
    "image_dir = \"/export/share/datasets/vision/imagenet/train/n01518878\"\n",
    "all_images = os.listdir(image_dir)\n",
    "print(len(all_images))"
   ]
  },
  {
   "cell_type": "code",
   "execution_count": 32,
   "metadata": {},
   "outputs": [
    {
     "name": "stdout",
     "output_type": "stream",
     "text": [
      "0\n"
     ]
    }
   ],
   "source": [
    "all_ratios = []\n",
    "\n",
    "for i, image_name in enumerate(all_images[:50000]):\n",
    "    if i % 5000 == 0:\n",
    "        print(i)\n",
    "    image_path = os.path.join(image_dir, image_name)\n",
    "    image = Image.open(image_path)\n",
    "    width, height = image.size\n",
    "    ratio = width / height\n",
    "    all_ratios.append(ratio)"
   ]
  },
  {
   "cell_type": "code",
   "execution_count": 33,
   "metadata": {},
   "outputs": [
    {
     "name": "stdout",
     "output_type": "stream",
     "text": [
      "(1300,)\n"
     ]
    },
    {
     "data": {
      "text/plain": [
       "(array([170., 152.,  25.,  12.,  14.,  32.,  12.,  10.,  12.,  25., 370.,\n",
       "         65., 382.,   6.,   5.,   2.,   1.,   2.,   1.,   2.]),\n",
       " array([0.612 , 0.6814, 0.7508, 0.8202, 0.8896, 0.959 , 1.0284, 1.0978,\n",
       "        1.1672, 1.2366, 1.306 , 1.3754, 1.4448, 1.5142, 1.5836, 1.653 ,\n",
       "        1.7224, 1.7918, 1.8612, 1.9306, 2.    ]),\n",
       " <BarContainer object of 20 artists>)"
      ]
     },
     "execution_count": 33,
     "metadata": {},
     "output_type": "execute_result"
    },
    {
     "data": {
      "image/png": "[encoded data removed]",
      "text/plain": [
       "<Figure size 432x288 with 1 Axes>"
      ]
     },
     "metadata": {
      "needs_background": "light"
     },
     "output_type": "display_data"
    }
   ],
   "source": [
    "# calculate distribution of ratios\n",
    "import numpy as np\n",
    "import matplotlib.pyplot as plt\n",
    "\n",
    "all_ratios = np.array(all_ratios)\n",
    "print(all_ratios.shape)\n",
    "\n",
    "plt.hist(all_ratios, bins=20)"
   ]
  },
  {
   "cell_type": "code",
   "execution_count": 34,
   "metadata": {},
   "outputs": [
    {
     "data": {
      "image/png": "[encoded data removed]",
      "text/plain": [
       "<Figure size 432x288 with 1 Axes>"
      ]
     },
     "metadata": {
      "needs_background": "light"
     },
     "output_type": "display_data"
    }
   ],
   "source": [
    "bar = plt.hist(all_ratios, bins=20)"
   ]
  },
  {
   "cell_type": "code",
   "execution_count": 35,
   "metadata": {},
   "outputs": [
    {
     "data": {
      "text/plain": [
       "array([ 30600.,  34070.,  37540.,  41010.,  44480.,  47950.,  51420.,\n",
       "        54890.,  58360.,  61830.,  65300.,  68770.,  72240.,  75710.,\n",
       "        79180.,  82650.,  86120.,  89590.,  93060.,  96530., 100000.])"
      ]
     },
     "execution_count": 35,
     "metadata": {},
     "output_type": "execute_result"
    }
   ],
   "source": [
    "bar[1] * 50000"
   ]
  },
  {
   "cell_type": "code",
   "execution_count": 36,
   "metadata": {},
   "outputs": [
    {
     "name": "stdout",
     "output_type": "stream",
     "text": [
      "0.0 0.1\n",
      "0\n",
      "0.1 0.2\n",
      "0\n",
      "0.2 0.30000000000000004\n",
      "0\n",
      "0.30000000000000004 0.4\n",
      "0\n",
      "0.4 0.5\n",
      "0\n",
      "0.5 0.6\n",
      "0\n",
      "0.6000000000000001 0.7000000000000001\n",
      "184\n",
      "0.7000000000000001 0.8\n",
      "151\n",
      "0.8 0.9\n",
      "19\n",
      "0.9 1.0\n",
      "24\n",
      "1.0 1.1\n",
      "16\n",
      "1.1 1.2000000000000002\n",
      "19\n",
      "1.2000000000000002 1.3000000000000003\n",
      "27\n",
      "1.3 1.4000000000000001\n",
      "396\n",
      "1.4000000000000001 1.5000000000000002\n",
      "203\n",
      "1.5 1.6\n",
      "228\n",
      "1.6 1.7000000000000002\n",
      "4\n",
      "1.7000000000000002 1.8000000000000003\n",
      "1\n",
      "1.8 1.9000000000000001\n",
      "2\n",
      "1.9000000000000001 2.0\n",
      "2\n"
     ]
    }
   ],
   "source": [
    "# print ratios in each bin\n",
    "# min_val = \n",
    "# max_val = 2.0\n",
    "\n",
    "for min_val in np.arange(0.0, 2.0, 0.1):\n",
    "    max_val = min_val + 0.1\n",
    "    print(min_val, max_val)\n",
    "    print(len([r for r in all_ratios if min_val < r < max_val]))\n",
    "    "
   ]
  },
  {
   "cell_type": "code",
   "execution_count": null,
   "metadata": {},
   "outputs": [],
   "source": []
  }
 ],
 "metadata": {
  "kernelspec": {
   "display_name": "Python 3 (ipykernel)",
   "language": "python",
   "name": "python3"
  },
  "language_info": {
   "codemirror_mode": {
    "name": "ipython",
    "version": 3
   },
   "file_extension": ".py",
   "mimetype": "text/x-python",
   "name": "python",
   "nbconvert_exporter": "python",
   "pygments_lexer": "ipython3",
   "version": "3.8.10"
  },
  "vscode": {
   "interpreter": {
    "hash": "d4d1e4263499bec80672ea0156c357c1ee493ec2b1c70f0acce89fc37c4a6abe"
   }
  }
 },
 "nbformat": 4,
 "nbformat_minor": 2
}
